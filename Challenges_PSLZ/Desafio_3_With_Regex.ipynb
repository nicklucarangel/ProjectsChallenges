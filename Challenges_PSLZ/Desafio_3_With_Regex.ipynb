{
 "cells": [
  {
   "cell_type": "markdown",
   "metadata": {},
   "source": [
    "## Limpeza de dados com Expressões Regulares\n",
    "\n"
   ]
  },
  {
   "cell_type": "markdown",
   "metadata": {},
   "source": [
    "\n",
    "### CPF e Telefone"
   ]
  },
  {
   "cell_type": "markdown",
   "metadata": {},
   "source": [
    "##### Imagine que em seu DataWarehouse, existe uma coluna com CPF de clientes e ela é seu identificador único, porém nela não existem pontos '.' e nem traços '-'. Você recebe, então, uma nova lista de clientes para que sejam inseridos em seu DW, mas com pontos e traços, e quem enviou não se preocupou em saber se o cliente dessa base já estava em uma base enviada por ele antes, e você não consegue cruzar para saber se esse cliente já está em sua base ou não e assim saber se vc precisa dar um update, ignorar ou apenas inserir a informação."
   ]
  },
  {
   "cell_type": "code",
   "execution_count": 23,
   "metadata": {},
   "outputs": [
    {
     "data": {
      "text/html": [
       "<div>\n",
       "<style scoped>\n",
       "    .dataframe tbody tr th:only-of-type {\n",
       "        vertical-align: middle;\n",
       "    }\n",
       "\n",
       "    .dataframe tbody tr th {\n",
       "        vertical-align: top;\n",
       "    }\n",
       "\n",
       "    .dataframe thead th {\n",
       "        text-align: right;\n",
       "    }\n",
       "</style>\n",
       "<table border=\"1\" class=\"dataframe\">\n",
       "  <thead>\n",
       "    <tr style=\"text-align: right;\">\n",
       "      <th></th>\n",
       "      <th>CPF</th>\n",
       "      <th>NOME</th>\n",
       "      <th>COR</th>\n",
       "    </tr>\n",
       "  </thead>\n",
       "  <tbody>\n",
       "    <tr>\n",
       "      <th>0</th>\n",
       "      <td>09554586442</td>\n",
       "      <td>joao</td>\n",
       "      <td>amarelo</td>\n",
       "    </tr>\n",
       "    <tr>\n",
       "      <th>1</th>\n",
       "      <td>06764719422</td>\n",
       "      <td>maria</td>\n",
       "      <td>azul</td>\n",
       "    </tr>\n",
       "    <tr>\n",
       "      <th>2</th>\n",
       "      <td>15754789412</td>\n",
       "      <td>paulo</td>\n",
       "      <td>vermelho</td>\n",
       "    </tr>\n",
       "    <tr>\n",
       "      <th>3</th>\n",
       "      <td>09754789412</td>\n",
       "      <td>jose</td>\n",
       "      <td>verde</td>\n",
       "    </tr>\n",
       "    <tr>\n",
       "      <th>4</th>\n",
       "      <td>09747789844</td>\n",
       "      <td>anita</td>\n",
       "      <td>roxo</td>\n",
       "    </tr>\n",
       "    <tr>\n",
       "      <th>5</th>\n",
       "      <td>54754784912</td>\n",
       "      <td>enzo</td>\n",
       "      <td>branco</td>\n",
       "    </tr>\n",
       "    <tr>\n",
       "      <th>6</th>\n",
       "      <td>09574879412</td>\n",
       "      <td>vitoria</td>\n",
       "      <td>preto</td>\n",
       "    </tr>\n",
       "    <tr>\n",
       "      <th>7</th>\n",
       "      <td>10756189413</td>\n",
       "      <td>valentina</td>\n",
       "      <td>cinza</td>\n",
       "    </tr>\n",
       "    <tr>\n",
       "      <th>8</th>\n",
       "      <td>11754489411</td>\n",
       "      <td>helena</td>\n",
       "      <td>laranja</td>\n",
       "    </tr>\n",
       "    <tr>\n",
       "      <th>9</th>\n",
       "      <td>09254795413</td>\n",
       "      <td>carla</td>\n",
       "      <td>marrom</td>\n",
       "    </tr>\n",
       "  </tbody>\n",
       "</table>\n",
       "</div>"
      ],
      "text/plain": [
       "           CPF       NOME       COR\n",
       "0  09554586442       joao   amarelo\n",
       "1  06764719422      maria      azul\n",
       "2  15754789412      paulo  vermelho\n",
       "3  09754789412       jose     verde\n",
       "4  09747789844      anita      roxo\n",
       "5  54754784912       enzo    branco\n",
       "6  09574879412    vitoria     preto\n",
       "7  10756189413  valentina     cinza\n",
       "8  11754489411     helena   laranja\n",
       "9  09254795413      carla    marrom"
      ]
     },
     "execution_count": 23,
     "metadata": {},
     "output_type": "execute_result"
    }
   ],
   "source": [
    "#Importaremos o pacote pandas para auxiliar no tratamento\n",
    "import pandas as pd\n",
    "import re as re\n",
    "\n",
    "#Vamos criar uma lista de CPF, Nome e Cor fictícia para servir de exemplo.\n",
    "\n",
    "cpfDw = ['09554586442','06764719422','15754789412','09754789412','09747789844','54754784912','09574879412','10756189413','11754489411','09254795413']\n",
    "nomeDw = ['joao','maria','paulo','jose','anita','enzo','vitoria','valentina','helena','carla',]\n",
    "corDw = ['amarelo','azul','vermelho','verde','roxo','branco','preto','cinza','laranja','marrom',]\n",
    "\n",
    "#Criamos um DataFrame para simular uma tabela em um DW\n",
    "dfDw = pd.DataFrame({\"CPF\":cpfDw,\"NOME\":nomeDw,\"COR\":corDw}); dfDw"
   ]
  },
  {
   "cell_type": "code",
   "execution_count": 18,
   "metadata": {},
   "outputs": [
    {
     "data": {
      "text/html": [
       "<div>\n",
       "<style scoped>\n",
       "    .dataframe tbody tr th:only-of-type {\n",
       "        vertical-align: middle;\n",
       "    }\n",
       "\n",
       "    .dataframe tbody tr th {\n",
       "        vertical-align: top;\n",
       "    }\n",
       "\n",
       "    .dataframe thead th {\n",
       "        text-align: right;\n",
       "    }\n",
       "</style>\n",
       "<table border=\"1\" class=\"dataframe\">\n",
       "  <thead>\n",
       "    <tr style=\"text-align: right;\">\n",
       "      <th></th>\n",
       "      <th>CPF</th>\n",
       "      <th>NOME</th>\n",
       "      <th>COR</th>\n",
       "    </tr>\n",
       "  </thead>\n",
       "  <tbody>\n",
       "    <tr>\n",
       "      <th>0</th>\n",
       "      <td>048.754.745-01</td>\n",
       "      <td>marcos</td>\n",
       "      <td>amarelo</td>\n",
       "    </tr>\n",
       "    <tr>\n",
       "      <th>1</th>\n",
       "      <td>547.725.147-14</td>\n",
       "      <td>miriam</td>\n",
       "      <td>azul</td>\n",
       "    </tr>\n",
       "    <tr>\n",
       "      <th>2</th>\n",
       "      <td>777.547.366/-/00</td>\n",
       "      <td>marcelo</td>\n",
       "      <td>vermelho</td>\n",
       "    </tr>\n",
       "    <tr>\n",
       "      <th>3</th>\n",
       "      <td>097.547.894-12</td>\n",
       "      <td>jose</td>\n",
       "      <td>verde</td>\n",
       "    </tr>\n",
       "    <tr>\n",
       "      <th>4</th>\n",
       "      <td>087.487.395-00</td>\n",
       "      <td>jefferson</td>\n",
       "      <td>roxo</td>\n",
       "    </tr>\n",
       "    <tr>\n",
       "      <th>5</th>\n",
       "      <td>412.574.576-00</td>\n",
       "      <td>jeremias</td>\n",
       "      <td>branco</td>\n",
       "    </tr>\n",
       "    <tr>\n",
       "      <th>6</th>\n",
       "      <td>754.125.741-10</td>\n",
       "      <td>jessica</td>\n",
       "      <td>preto</td>\n",
       "    </tr>\n",
       "    <tr>\n",
       "      <th>7</th>\n",
       "      <td>417.147.741-01</td>\n",
       "      <td>jislene</td>\n",
       "      <td>cinza</td>\n",
       "    </tr>\n",
       "    <tr>\n",
       "      <th>8</th>\n",
       "      <td>125.555.741-01</td>\n",
       "      <td>helena</td>\n",
       "      <td>laranja</td>\n",
       "    </tr>\n",
       "    <tr>\n",
       "      <th>9</th>\n",
       "      <td>952.157.879-03</td>\n",
       "      <td>carla</td>\n",
       "      <td>marrom</td>\n",
       "    </tr>\n",
       "  </tbody>\n",
       "</table>\n",
       "</div>"
      ],
      "text/plain": [
       "                CPF       NOME       COR\n",
       "0    048.754.745-01     marcos   amarelo\n",
       "1    547.725.147-14     miriam      azul\n",
       "2  777.547.366/-/00    marcelo  vermelho\n",
       "3    097.547.894-12       jose     verde\n",
       "4    087.487.395-00  jefferson      roxo\n",
       "5    412.574.576-00   jeremias    branco\n",
       "6    754.125.741-10    jessica     preto\n",
       "7    417.147.741-01    jislene     cinza\n",
       "8    125.555.741-01     helena   laranja\n",
       "9    952.157.879-03      carla    marrom"
      ]
     },
     "execution_count": 18,
     "metadata": {},
     "output_type": "execute_result"
    }
   ],
   "source": [
    "#Vamos criar agora listas fictícias que será a nova lista de clientes recebida para inserir,ignorar ou atualizar no DataWarehouse.\n",
    "\n",
    "cpfNew = ['048.754.745-01','547.725.147-14','777.547.366/-/00','097.547.894-12','087.487.395-00','412.574.576-00','754.125.741-10','417.147.741-01','125.555.741-01','952.157.879-03']\n",
    "nomeNew = ['marcos','miriam','marcelo','jose','jefferson','jeremias','jessica','jislene','helena','carla',]\n",
    "corNew = ['amarelo','azul','vermelho','verde','roxo','branco','preto','cinza','laranja','marrom',]\n",
    "\n",
    "#Inserindo em um DataFrame\n",
    "dfNew = pd.DataFrame({\"CPF\":cpfNew,\"NOME\":nomeNew,\"COR\":corNew}); dfNew"
   ]
  },
  {
   "cell_type": "code",
   "execution_count": 19,
   "metadata": {},
   "outputs": [
    {
     "data": {
      "text/html": [
       "<div>\n",
       "<style scoped>\n",
       "    .dataframe tbody tr th:only-of-type {\n",
       "        vertical-align: middle;\n",
       "    }\n",
       "\n",
       "    .dataframe tbody tr th {\n",
       "        vertical-align: top;\n",
       "    }\n",
       "\n",
       "    .dataframe thead th {\n",
       "        text-align: right;\n",
       "    }\n",
       "</style>\n",
       "<table border=\"1\" class=\"dataframe\">\n",
       "  <thead>\n",
       "    <tr style=\"text-align: right;\">\n",
       "      <th></th>\n",
       "      <th>CPF</th>\n",
       "      <th>NOME_x</th>\n",
       "      <th>COR_x</th>\n",
       "      <th>NOME_y</th>\n",
       "      <th>COR_y</th>\n",
       "    </tr>\n",
       "  </thead>\n",
       "  <tbody>\n",
       "  </tbody>\n",
       "</table>\n",
       "</div>"
      ],
      "text/plain": [
       "Empty DataFrame\n",
       "Columns: [CPF, NOME_x, COR_x, NOME_y, COR_y]\n",
       "Index: []"
      ]
     },
     "execution_count": 19,
     "metadata": {},
     "output_type": "execute_result"
    }
   ],
   "source": [
    "#Tentamos cruzar para saber se em nosso DW existe algum CPF recebido no novo DataFrame. Como era esperado, não conseguimos achar nenhuma correspondência.\n",
    "dfFinal = pd.merge(dfDw,dfNew,on = 'CPF', how='inner'); dfFinal"
   ]
  },
  {
   "cell_type": "markdown",
   "metadata": {},
   "source": [
    "### Desafio!\n",
    "\n",
    "#### Remova a pontuação e o traço do CPF "
   ]
  },
  {
   "cell_type": "code",
   "execution_count": 20,
   "metadata": {},
   "outputs": [
    {
     "name": "stdout",
     "output_type": "stream",
     "text": [
      "0    04875474501\n",
      "1    54772514714\n",
      "2    77754736600\n",
      "3    09754789412\n",
      "4    08748739500\n",
      "5    41257457600\n",
      "6    75412574110\n",
      "7    41714774101\n",
      "8    12555574101\n",
      "9    95215787903\n",
      "Name: CPF, dtype: object\n"
     ]
    }
   ],
   "source": [
    "#Escreva seu código aqui\n",
    "\n",
    "dfNew.CPF\n",
    "#nofeaturedf = dfNew.CPF.str.replace(\".\",\"\").str.replace(\"-\",\"\").str.replace(\"/\",\"\")\n",
    "nofeaturedf = dfNew.CPF.str.replace('\\W+','',regex=True)\n",
    "print(nofeaturedf)\n"
   ]
  },
  {
   "cell_type": "markdown",
   "metadata": {},
   "source": [
    "#### Faça um merge entra o dfNew e o dfDw e saiba quantos clientes já existiam na base"
   ]
  },
  {
   "cell_type": "code",
   "execution_count": 21,
   "metadata": {},
   "outputs": [
    {
     "data": {
      "text/html": [
       "<div>\n",
       "<style scoped>\n",
       "    .dataframe tbody tr th:only-of-type {\n",
       "        vertical-align: middle;\n",
       "    }\n",
       "\n",
       "    .dataframe tbody tr th {\n",
       "        vertical-align: top;\n",
       "    }\n",
       "\n",
       "    .dataframe thead th {\n",
       "        text-align: right;\n",
       "    }\n",
       "</style>\n",
       "<table border=\"1\" class=\"dataframe\">\n",
       "  <thead>\n",
       "    <tr style=\"text-align: right;\">\n",
       "      <th></th>\n",
       "      <th>CPF</th>\n",
       "      <th>NOME</th>\n",
       "      <th>COR</th>\n",
       "    </tr>\n",
       "  </thead>\n",
       "  <tbody>\n",
       "    <tr>\n",
       "      <th>0</th>\n",
       "      <td>09754789412</td>\n",
       "      <td>jose</td>\n",
       "      <td>verde</td>\n",
       "    </tr>\n",
       "  </tbody>\n",
       "</table>\n",
       "</div>"
      ],
      "text/plain": [
       "           CPF  NOME    COR\n",
       "0  09754789412  jose  verde"
      ]
     },
     "execution_count": 21,
     "metadata": {},
     "output_type": "execute_result"
    }
   ],
   "source": [
    "#Escreva seu código aqui\n",
    "\n",
    "dfFinal = pd.merge(dfDw,nofeaturedf,on = 'CPF', how='inner'); dfFinal"
   ]
  },
  {
   "cell_type": "code",
   "execution_count": 26,
   "metadata": {},
   "outputs": [
    {
     "name": "stdout",
     "output_type": "stream",
     "text": [
      "teste(%100)\n"
     ]
    }
   ],
   "source": [
    "a = \"teste(%100)\"\n",
    "b = re.sub(r'[()]', '', a)\n",
    "print (a)"
   ]
  }
 ],
 "metadata": {
  "kernelspec": {
   "display_name": "Python 3.10.4 64-bit",
   "language": "python",
   "name": "python3"
  },
  "language_info": {
   "codemirror_mode": {
    "name": "ipython",
    "version": 3
   },
   "file_extension": ".py",
   "mimetype": "text/x-python",
   "name": "python",
   "nbconvert_exporter": "python",
   "pygments_lexer": "ipython3",
   "version": "3.10.4"
  },
  "orig_nbformat": 4,
  "vscode": {
   "interpreter": {
    "hash": "2e442aee5ea4f254ca984c4e8e40ff40edab4a684af6bb87a392902621c965e3"
   }
  }
 },
 "nbformat": 4,
 "nbformat_minor": 2
}
